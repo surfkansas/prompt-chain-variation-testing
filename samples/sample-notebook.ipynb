{
 "cells": [
  {
   "cell_type": "code",
   "execution_count": 1,
   "id": "2b36b8c7-5563-40b5-836e-264f858f4cd7",
   "metadata": {
    "scrolled": true
   },
   "outputs": [],
   "source": [
    "import pcvt\n",
    "import dotenv\n",
    "import pandas as pd"
   ]
  },
  {
   "cell_type": "code",
   "execution_count": 2,
   "id": "b579b6a1-8865-4e28-b78b-d71683750735",
   "metadata": {},
   "outputs": [],
   "source": [
    "# Load environment configuration from the .env file, and then load the sample experiment\n",
    "\n",
    "dotenv.load_dotenv()\n",
    "experiment = pcvt.Experiment.from_file('./sample-experiment.json')"
   ]
  },
  {
   "cell_type": "code",
   "execution_count": 3,
   "id": "55249da2-4588-4421-9774-8eb15ede20b7",
   "metadata": {},
   "outputs": [
    {
     "name": "stdout",
     "output_type": "stream",
     "text": [
      "\n",
      "Running test: control\n",
      "  Running test: ./results/control/0001.test.json\n",
      "  Running test: ./results/control/0002.test.json\n",
      "  Running test: ./results/control/0003.test.json\n",
      "  Running test: ./results/control/0004.test.json\n",
      "  Running test: ./results/control/0005.test.json\n",
      "  Running test: ./results/control/0006.test.json\n",
      "  Running test: ./results/control/0007.test.json\n",
      "  Running test: ./results/control/0008.test.json\n",
      "  Running test: ./results/control/0009.test.json\n",
      "  Running test: ./results/control/0010.test.json\n",
      "  Running test: ./results/control/0011.test.json\n",
      "  Running test: ./results/control/0012.test.json\n",
      "  Running test: ./results/control/0013.test.json\n",
      "  Running test: ./results/control/0014.test.json\n",
      "  Running test: ./results/control/0015.test.json\n",
      "  Running test: ./results/control/0016.test.json\n",
      "  Running test: ./results/control/0017.test.json\n",
      "  Running test: ./results/control/0018.test.json\n",
      "  Running test: ./results/control/0019.test.json\n",
      "  Running test: ./results/control/0020.test.json\n",
      "Completed test run\n",
      "\n",
      "Running test: yoda\n",
      "  Running test: ./results/yoda/0001.test.json\n",
      "  Running test: ./results/yoda/0002.test.json\n",
      "  Running test: ./results/yoda/0003.test.json\n",
      "  Running test: ./results/yoda/0004.test.json\n",
      "  Running test: ./results/yoda/0005.test.json\n",
      "  Running test: ./results/yoda/0006.test.json\n",
      "  Running test: ./results/yoda/0007.test.json\n",
      "  Running test: ./results/yoda/0008.test.json\n",
      "  Running test: ./results/yoda/0009.test.json\n",
      "  Running test: ./results/yoda/0010.test.json\n",
      "  Running test: ./results/yoda/0011.test.json\n",
      "  Running test: ./results/yoda/0012.test.json\n",
      "  Running test: ./results/yoda/0013.test.json\n",
      "  Running test: ./results/yoda/0014.test.json\n",
      "  Running test: ./results/yoda/0015.test.json\n",
      "  Running test: ./results/yoda/0016.test.json\n",
      "  Running test: ./results/yoda/0017.test.json\n",
      "  Running test: ./results/yoda/0018.test.json\n",
      "  Running test: ./results/yoda/0019.test.json\n",
      "  Running test: ./results/yoda/0020.test.json\n",
      "Completed test run\n",
      "\n",
      "Running scoring: knowledge\n",
      "  Running scoring for test: ./results/yoda/0001.test.json...\n",
      "  Running scoring for test: ./results/yoda/0002.test.json...\n",
      "  Running scoring for test: ./results/yoda/0003.test.json...\n",
      "  Running scoring for test: ./results/yoda/0004.test.json...\n",
      "  Running scoring for test: ./results/yoda/0005.test.json...\n",
      "  Running scoring for test: ./results/yoda/0006.test.json...\n",
      "  Running scoring for test: ./results/yoda/0007.test.json...\n",
      "  Running scoring for test: ./results/yoda/0008.test.json...\n",
      "  Running scoring for test: ./results/yoda/0009.test.json...\n",
      "  Running scoring for test: ./results/yoda/0010.test.json...\n",
      "  Running scoring for test: ./results/yoda/0011.test.json...\n",
      "  Running scoring for test: ./results/yoda/0012.test.json...\n",
      "  Running scoring for test: ./results/yoda/0013.test.json...\n",
      "  Running scoring for test: ./results/yoda/0014.test.json...\n",
      "  Running scoring for test: ./results/yoda/0015.test.json...\n",
      "  Running scoring for test: ./results/yoda/0016.test.json...\n",
      "  Running scoring for test: ./results/yoda/0017.test.json...\n",
      "  Running scoring for test: ./results/yoda/0018.test.json...\n",
      "  Running scoring for test: ./results/yoda/0019.test.json...\n",
      "  Running scoring for test: ./results/yoda/0020.test.json...\n",
      "  Running scoring for test: ./results/control/0001.test.json...\n",
      "  Running scoring for test: ./results/control/0002.test.json...\n",
      "  Running scoring for test: ./results/control/0003.test.json...\n",
      "  Running scoring for test: ./results/control/0004.test.json...\n",
      "  Running scoring for test: ./results/control/0005.test.json...\n",
      "  Running scoring for test: ./results/control/0006.test.json...\n",
      "  Running scoring for test: ./results/control/0007.test.json...\n",
      "  Running scoring for test: ./results/control/0008.test.json...\n",
      "  Running scoring for test: ./results/control/0009.test.json...\n",
      "  Running scoring for test: ./results/control/0010.test.json...\n",
      "  Running scoring for test: ./results/control/0011.test.json...\n",
      "  Running scoring for test: ./results/control/0012.test.json...\n",
      "  Running scoring for test: ./results/control/0013.test.json...\n",
      "  Running scoring for test: ./results/control/0014.test.json...\n",
      "  Running scoring for test: ./results/control/0015.test.json...\n",
      "  Running scoring for test: ./results/control/0016.test.json...\n",
      "  Running scoring for test: ./results/control/0017.test.json...\n",
      "  Running scoring for test: ./results/control/0018.test.json...\n",
      "  Running scoring for test: ./results/control/0019.test.json...\n",
      "  Running scoring for test: ./results/control/0020.test.json...\n",
      "Completed scoring run\n"
     ]
    }
   ],
   "source": [
    "# First run and then score the tests from the experiment\n",
    "\n",
    "experiment.run_tests('./results')\n",
    "experiment.run_scoring('./results')"
   ]
  },
  {
   "cell_type": "code",
   "execution_count": 4,
   "id": "8c730e3e-0b40-4b5f-9469-e864d6a5b9e5",
   "metadata": {},
   "outputs": [
    {
     "name": "stdout",
     "output_type": "stream",
     "text": [
      "\n",
      "knowledge\n"
     ]
    },
    {
     "data": {
      "text/html": [
       "<div>\n",
       "<style scoped>\n",
       "    .dataframe tbody tr th:only-of-type {\n",
       "        vertical-align: middle;\n",
       "    }\n",
       "\n",
       "    .dataframe tbody tr th {\n",
       "        vertical-align: top;\n",
       "    }\n",
       "\n",
       "    .dataframe thead th {\n",
       "        text-align: right;\n",
       "    }\n",
       "</style>\n",
       "<table border=\"1\" class=\"dataframe\">\n",
       "  <thead>\n",
       "    <tr style=\"text-align: right;\">\n",
       "      <th></th>\n",
       "      <th>Test</th>\n",
       "      <th>Errors</th>\n",
       "      <th>Unexpected Scores</th>\n",
       "      <th>N/A</th>\n",
       "      <th>0</th>\n",
       "      <th>1</th>\n",
       "      <th>2</th>\n",
       "      <th>3</th>\n",
       "      <th>4</th>\n",
       "      <th>5</th>\n",
       "      <th>Average</th>\n",
       "      <th>&gt;= 3</th>\n",
       "    </tr>\n",
       "  </thead>\n",
       "  <tbody>\n",
       "    <tr>\n",
       "      <th>0</th>\n",
       "      <td>control</td>\n",
       "      <td>1</td>\n",
       "      <td>1</td>\n",
       "      <td>0</td>\n",
       "      <td>0</td>\n",
       "      <td>0</td>\n",
       "      <td>2</td>\n",
       "      <td>16</td>\n",
       "      <td>0</td>\n",
       "      <td>0</td>\n",
       "      <td>2.89</td>\n",
       "      <td>88.9%</td>\n",
       "    </tr>\n",
       "    <tr>\n",
       "      <th>1</th>\n",
       "      <td>yoda</td>\n",
       "      <td>0</td>\n",
       "      <td>0</td>\n",
       "      <td>0</td>\n",
       "      <td>0</td>\n",
       "      <td>0</td>\n",
       "      <td>12</td>\n",
       "      <td>8</td>\n",
       "      <td>0</td>\n",
       "      <td>0</td>\n",
       "      <td>2.40</td>\n",
       "      <td>40.0%</td>\n",
       "    </tr>\n",
       "  </tbody>\n",
       "</table>\n",
       "</div>"
      ],
      "text/plain": [
       "      Test  Errors  Unexpected Scores  N/A  0  1   2   3  4  5 Average   >= 3\n",
       "0  control       1                  1    0  0  0   2  16  0  0    2.89  88.9%\n",
       "1     yoda       0                  0    0  0  0  12   8  0  0    2.40  40.0%"
      ]
     },
     "metadata": {},
     "output_type": "display_data"
    },
    {
     "name": "stdout",
     "output_type": "stream",
     "text": [
      "\n"
     ]
    }
   ],
   "source": [
    "scoring_summary = experiment.get_scoring_summary('./results')\n",
    "for score_key in scoring_summary:\n",
    "    print()\n",
    "    df = pd.DataFrame(scoring_summary[score_key])\n",
    "    print(score_key)\n",
    "    display(df)\n",
    "    print()"
   ]
  },
  {
   "cell_type": "code",
   "execution_count": null,
   "id": "6545997c-2159-409b-877d-8ae63ce89b4c",
   "metadata": {},
   "outputs": [],
   "source": []
  }
 ],
 "metadata": {
  "kernelspec": {
   "display_name": "Python 3 (ipykernel)",
   "language": "python",
   "name": "python3"
  },
  "language_info": {
   "codemirror_mode": {
    "name": "ipython",
    "version": 3
   },
   "file_extension": ".py",
   "mimetype": "text/x-python",
   "name": "python",
   "nbconvert_exporter": "python",
   "pygments_lexer": "ipython3",
   "version": "3.10.11"
  }
 },
 "nbformat": 4,
 "nbformat_minor": 5
}
