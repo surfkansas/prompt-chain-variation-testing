{
 "cells": [
  {
   "cell_type": "code",
   "execution_count": 1,
   "id": "2b36b8c7-5563-40b5-836e-264f858f4cd7",
   "metadata": {},
   "outputs": [],
   "source": [
    "import pcvt\n",
    "import dotenv"
   ]
  },
  {
   "cell_type": "code",
   "execution_count": 2,
   "id": "b579b6a1-8865-4e28-b78b-d71683750735",
   "metadata": {},
   "outputs": [],
   "source": [
    "# Load environment configuration from the .env file, and then load the sample experiment\n",
    "\n",
    "dotenv.load_dotenv()\n",
    "experiment = pcvt.Experiment.from_file('./sample-experiment.json')"
   ]
  },
  {
   "cell_type": "code",
   "execution_count": 3,
   "id": "55249da2-4588-4421-9774-8eb15ede20b7",
   "metadata": {},
   "outputs": [
    {
     "name": "stdout",
     "output_type": "stream",
     "text": [
      "Running test: control\n",
      "Completed test run\n",
      "Running test: yoda\n",
      "  Running test: ./results/yoda/0008.test.json\n",
      "  Running test: ./results/yoda/0009.test.json\n",
      "  Running test: ./results/yoda/0010.test.json\n",
      "  Running test: ./results/yoda/0011.test.json\n",
      "  Running test: ./results/yoda/0012.test.json\n",
      "  Running test: ./results/yoda/0013.test.json\n",
      "  Running test: ./results/yoda/0014.test.json\n",
      "  Running test: ./results/yoda/0015.test.json\n",
      "  Running test: ./results/yoda/0016.test.json\n",
      "  Running test: ./results/yoda/0017.test.json\n",
      "  Running test: ./results/yoda/0018.test.json\n",
      "  Running test: ./results/yoda/0019.test.json\n",
      "  Running test: ./results/yoda/0020.test.json\n",
      "Completed test run\n",
      "Running scoring: knowledge\n",
      "  Running scoring for test: ./results/yoda/0001.test.json...\n",
      "  Running scoring for test: ./results/yoda/0002.test.json...\n",
      "  Running scoring for test: ./results/yoda/0003.test.json...\n",
      "  Running scoring for test: ./results/yoda/0004.test.json...\n",
      "  Running scoring for test: ./results/yoda/0005.test.json...\n",
      "  Running scoring for test: ./results/yoda/0006.test.json...\n",
      "  Running scoring for test: ./results/yoda/0007.test.json...\n",
      "  Running scoring for test: ./results/yoda/0008.test.json...\n",
      "  Running scoring for test: ./results/yoda/0009.test.json...\n",
      "  Running scoring for test: ./results/yoda/0010.test.json...\n",
      "  Running scoring for test: ./results/yoda/0011.test.json...\n",
      "  Running scoring for test: ./results/yoda/0012.test.json...\n",
      "  Running scoring for test: ./results/yoda/0013.test.json...\n",
      "  Running scoring for test: ./results/yoda/0014.test.json...\n",
      "  Running scoring for test: ./results/yoda/0015.test.json...\n",
      "  Running scoring for test: ./results/yoda/0016.test.json...\n",
      "  Running scoring for test: ./results/yoda/0017.test.json...\n",
      "  Running scoring for test: ./results/yoda/0018.test.json...\n",
      "  Running scoring for test: ./results/yoda/0019.test.json...\n",
      "  Running scoring for test: ./results/yoda/0020.test.json...\n",
      "  Running scoring for test: ./results/control/0001.test.json...\n",
      "  Running scoring for test: ./results/control/0002.test.json...\n",
      "  Running scoring for test: ./results/control/0003.test.json...\n",
      "  Running scoring for test: ./results/control/0004.test.json...\n",
      "  Running scoring for test: ./results/control/0005.test.json...\n",
      "  Running scoring for test: ./results/control/0006.test.json...\n",
      "  Running scoring for test: ./results/control/0007.test.json...\n",
      "  Running scoring for test: ./results/control/0008.test.json...\n",
      "  Running scoring for test: ./results/control/0009.test.json...\n",
      "  Running scoring for test: ./results/control/0010.test.json...\n",
      "  Running scoring for test: ./results/control/0011.test.json...\n",
      "  Running scoring for test: ./results/control/0012.test.json...\n",
      "  Running scoring for test: ./results/control/0013.test.json...\n",
      "  Running scoring for test: ./results/control/0014.test.json...\n",
      "  Running scoring for test: ./results/control/0015.test.json...\n",
      "  Running scoring for test: ./results/control/0016.test.json...\n",
      "  Running scoring for test: ./results/control/0017.test.json...\n",
      "  Running scoring for test: ./results/control/0018.test.json...\n",
      "  Running scoring for test: ./results/control/0019.test.json...\n",
      "  Running scoring for test: ./results/control/0020.test.json...\n",
      "Completed scoring run\n"
     ]
    }
   ],
   "source": [
    "# First run and then score the tests from the experiment\n",
    "\n",
    "experiment.run_tests('./results')\n",
    "experiment.run_scoring('./results')"
   ]
  },
  {
   "cell_type": "code",
   "execution_count": null,
   "id": "8c730e3e-0b40-4b5f-9469-e864d6a5b9e5",
   "metadata": {},
   "outputs": [],
   "source": []
  },
  {
   "cell_type": "code",
   "execution_count": null,
   "id": "a5486f2b-3236-437b-b715-db1fa36c7264",
   "metadata": {},
   "outputs": [],
   "source": []
  }
 ],
 "metadata": {
  "kernelspec": {
   "display_name": "Python 3 (ipykernel)",
   "language": "python",
   "name": "python3"
  },
  "language_info": {
   "codemirror_mode": {
    "name": "ipython",
    "version": 3
   },
   "file_extension": ".py",
   "mimetype": "text/x-python",
   "name": "python",
   "nbconvert_exporter": "python",
   "pygments_lexer": "ipython3",
   "version": "3.10.11"
  }
 },
 "nbformat": 4,
 "nbformat_minor": 5
}
